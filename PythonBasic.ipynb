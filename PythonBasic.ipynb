{
 "cells": [
  {
   "cell_type": "code",
   "execution_count": 1,
   "id": "cf2893f2-355a-4017-950a-7ccd8701aecb",
   "metadata": {},
   "outputs": [
    {
     "data": {
      "text/plain": [
       "2"
      ]
     },
     "execution_count": 1,
     "metadata": {},
     "output_type": "execute_result"
    }
   ],
   "source": [
    "1+1"
   ]
  },
  {
   "cell_type": "code",
   "execution_count": null,
   "id": "c337500e-c0ca-4658-bfb6-a442fab75481",
   "metadata": {},
   "outputs": [
    {
     "name": "stdout",
     "output_type": "stream",
     "text": [
      "ilakiya\n"
     ]
    }
   ],
   "source": [
    "print('ilakiya')"
   ]
  },
  {
   "cell_type": "markdown",
   "id": "2e0f8d14-cffe-494a-9ee5-2540ea2597b8",
   "metadata": {
    "tags": []
   },
   "source": [
    "## hello this is a heading\n",
    "# Hi\n",
    "### Example\n"
   ]
  },
  {
   "cell_type": "code",
   "execution_count": 3,
   "id": "377d18db-f7ba-4d7e-beb3-ff3f03a33b3b",
   "metadata": {},
   "outputs": [
    {
     "name": "stdout",
     "output_type": "stream",
     "text": [
      "10\n"
     ]
    }
   ],
   "source": [
    "print(10)"
   ]
  },
  {
   "cell_type": "code",
   "execution_count": null,
   "id": "050d7ecc-71dc-4b44-a932-e6a0d097ea9d",
   "metadata": {},
   "outputs": [],
   "source": [
    "\"\"\"This is a \n",
    "example of\n",
    "multi line comments\"\"\""
   ]
  },
  {
   "cell_type": "raw",
   "id": "7b2ba423-9e7d-4248-a206-028426dfee70",
   "metadata": {},
   "source": [
    "this is an example raw comment "
   ]
  },
  {
   "cell_type": "code",
   "execution_count": 8,
   "id": "8357f1b9-3500-4b5f-9c0b-367b036e641c",
   "metadata": {},
   "outputs": [
    {
     "data": {
      "text/plain": [
       "(1+3j)"
      ]
     },
     "execution_count": 8,
     "metadata": {},
     "output_type": "execute_result"
    }
   ],
   "source": [
    "1+3j"
   ]
  },
  {
   "cell_type": "code",
   "execution_count": 9,
   "id": "43387c13-0733-40e5-baa7-95b742dd0a67",
   "metadata": {},
   "outputs": [
    {
     "data": {
      "text/plain": [
       "complex"
      ]
     },
     "execution_count": 9,
     "metadata": {},
     "output_type": "execute_result"
    }
   ],
   "source": [
    "type(1+3j)"
   ]
  },
  {
   "cell_type": "code",
   "execution_count": 10,
   "id": "ee06d977-a571-44c7-85d4-8871b8e4a27d",
   "metadata": {},
   "outputs": [
    {
     "name": "stdout",
     "output_type": "stream",
     "text": [
      "hello\n"
     ]
    }
   ],
   "source": [
    "print(\"hello\")"
   ]
  },
  {
   "cell_type": "code",
   "execution_count": 11,
   "id": "1f23f6c7-09e7-4d35-b832-4a6f113641a5",
   "metadata": {},
   "outputs": [
    {
     "data": {
      "text/plain": [
       "bool"
      ]
     },
     "execution_count": 11,
     "metadata": {},
     "output_type": "execute_result"
    }
   ],
   "source": [
    "type(True)"
   ]
  },
  {
   "cell_type": "code",
   "execution_count": 12,
   "id": "23d3b87e-2069-4d2d-8583-3176fc325759",
   "metadata": {},
   "outputs": [
    {
     "data": {
      "text/plain": [
       "float"
      ]
     },
     "execution_count": 12,
     "metadata": {},
     "output_type": "execute_result"
    }
   ],
   "source": [
    "type(10.5)"
   ]
  },
  {
   "cell_type": "code",
   "execution_count": null,
   "id": "2a27edc3-b015-41ae-9908-4674f4025043",
   "metadata": {},
   "outputs": [],
   "source": []
  },
  {
   "cell_type": "code",
   "execution_count": 2,
   "id": "3e0347fd-3b0f-4e4b-b3fd-9b1bf82d4fae",
   "metadata": {},
   "outputs": [
    {
     "data": {
      "text/plain": [
       "10"
      ]
     },
     "execution_count": 2,
     "metadata": {},
     "output_type": "execute_result"
    }
   ],
   "source": [
    "int('10')"
   ]
  },
  {
   "cell_type": "code",
   "execution_count": 3,
   "id": "f0f309ad-36cf-449f-9156-61757ea5db43",
   "metadata": {},
   "outputs": [
    {
     "name": "stdout",
     "output_type": "stream",
     "text": [
      "123\n"
     ]
    }
   ],
   "source": [
    "print(123)"
   ]
  },
  {
   "cell_type": "code",
   "execution_count": 4,
   "id": "7eec9aef-7bcf-40c1-bcd7-991d0ad9f92c",
   "metadata": {},
   "outputs": [
    {
     "name": "stdout",
     "output_type": "stream",
     "text": [
      "123\n"
     ]
    }
   ],
   "source": [
    "print('123')"
   ]
  },
  {
   "cell_type": "code",
   "execution_count": 5,
   "id": "8e86a3d8-547d-4162-84d2-d2e85c9661da",
   "metadata": {},
   "outputs": [
    {
     "data": {
      "text/plain": [
       "str"
      ]
     },
     "execution_count": 5,
     "metadata": {},
     "output_type": "execute_result"
    }
   ],
   "source": [
    "type('123')"
   ]
  },
  {
   "cell_type": "code",
   "execution_count": 6,
   "id": "fba711f3-3c76-4c5c-ae2c-36db7cfafcbb",
   "metadata": {},
   "outputs": [
    {
     "data": {
      "text/plain": [
       "int"
      ]
     },
     "execution_count": 6,
     "metadata": {},
     "output_type": "execute_result"
    }
   ],
   "source": [
    "type(123)\n"
   ]
  },
  {
   "cell_type": "code",
   "execution_count": 7,
   "id": "7ae6bee9-7011-4c48-af28-d1523b9da131",
   "metadata": {},
   "outputs": [
    {
     "name": "stdout",
     "output_type": "stream",
     "text": [
      "27\n"
     ]
    }
   ],
   "source": [
    "age = 27\n",
    "print(age)"
   ]
  },
  {
   "cell_type": "code",
   "execution_count": 8,
   "id": "7bd09ad9-4854-491a-8fee-0915189ee76f",
   "metadata": {},
   "outputs": [
    {
     "name": "stdout",
     "output_type": "stream",
     "text": [
      "My age is : 27\n"
     ]
    }
   ],
   "source": [
    "print(\"My age is :\", age)"
   ]
  },
  {
   "cell_type": "code",
   "execution_count": 13,
   "id": "83a60749-1285-43f4-af29-ba6131d5ea20",
   "metadata": {},
   "outputs": [
    {
     "name": "stdout",
     "output_type": "stream",
     "text": [
      "My age is 27\n"
     ]
    }
   ],
   "source": [
    "print(f\"My age is {age}\")"
   ]
  },
  {
   "cell_type": "code",
   "execution_count": 14,
   "id": "4aea4ceb-f662-4082-8dcb-7a7ed42ef81c",
   "metadata": {},
   "outputs": [
    {
     "data": {
      "text/plain": [
       "int"
      ]
     },
     "execution_count": 14,
     "metadata": {},
     "output_type": "execute_result"
    }
   ],
   "source": [
    "type(age)"
   ]
  },
  {
   "cell_type": "code",
   "execution_count": 18,
   "id": "598edd2b-8605-4e76-b22c-2eb6165d607e",
   "metadata": {},
   "outputs": [
    {
     "data": {
      "text/plain": [
       "'27'"
      ]
     },
     "execution_count": 18,
     "metadata": {},
     "output_type": "execute_result"
    }
   ],
   "source": [
    "str(age)"
   ]
  },
  {
   "cell_type": "code",
   "execution_count": 17,
   "id": "aa7cf14e-6acf-42bf-aa5b-b184a3df293e",
   "metadata": {},
   "outputs": [
    {
     "data": {
      "text/plain": [
       "str"
      ]
     },
     "execution_count": 17,
     "metadata": {},
     "output_type": "execute_result"
    }
   ],
   "source": [
    "type(str(age))"
   ]
  },
  {
   "cell_type": "code",
   "execution_count": 16,
   "id": "9e111e55-5934-4089-92ee-b7af1abd2a53",
   "metadata": {},
   "outputs": [
    {
     "data": {
      "text/plain": [
       "int"
      ]
     },
     "execution_count": 16,
     "metadata": {},
     "output_type": "execute_result"
    }
   ],
   "source": [
    "type(age)"
   ]
  },
  {
   "cell_type": "code",
   "execution_count": 26,
   "id": "723d4fe0-4a47-42f0-b783-9b4876ec5021",
   "metadata": {},
   "outputs": [
    {
     "name": "stdout",
     "output_type": "stream",
     "text": [
      "My name is ila, and I am 25 years old\n",
      "My name is ila and my age is 25\n"
     ]
    }
   ],
   "source": [
    "name = \"ila\"\n",
    "age = 25\n",
    "degree = 'BE'\n",
    "\n",
    "print(f\"My name is {name}, and I am {age} years old\")\n",
    "print(\"My name is {} and my age is {}\".format(name,age))"
   ]
  },
  {
   "cell_type": "code",
   "execution_count": 27,
   "id": "4e26add2-27db-4846-802b-0334da8e1893",
   "metadata": {},
   "outputs": [
    {
     "name": "stdout",
     "output_type": "stream",
     "text": [
      "My name is ila and my age is 25\n"
     ]
    }
   ],
   "source": [
    "print(\"My name is {firstname} and my age is {newage}\".format(firstname = name,newage = age))"
   ]
  },
  {
   "cell_type": "code",
   "execution_count": 29,
   "id": "17238774-9ddb-46dd-a984-57e13fb57f43",
   "metadata": {},
   "outputs": [
    {
     "name": "stdout",
     "output_type": "stream",
     "text": [
      "My age is 25 and I have completed: my degree BE with the name of ila\n"
     ]
    }
   ],
   "source": [
    "print(\"My age is {} and I have completed: my degree {} with the name of {}\" .format(age, degree,name))"
   ]
  },
  {
   "cell_type": "code",
   "execution_count": 31,
   "id": "b4d2d969-3008-4db3-861e-fe0177e87ab0",
   "metadata": {},
   "outputs": [
    {
     "name": "stdout",
     "output_type": "stream",
     "text": [
      "My age is 25 and I have completed: my degree BE with the name of ila\n"
     ]
    }
   ],
   "source": [
    "print(f\"My age is {age} and I have completed: my degree {degree} with the name of {name}\")"
   ]
  },
  {
   "cell_type": "code",
   "execution_count": null,
   "id": "5dee89c4-8c8d-46f8-96c9-3f20b5f90302",
   "metadata": {},
   "outputs": [],
   "source": []
  },
  {
   "cell_type": "code",
   "execution_count": 44,
   "id": "6bd804f0-81e8-4717-8896-0d7776b6b66f",
   "metadata": {},
   "outputs": [
    {
     "name": "stdin",
     "output_type": "stream",
     "text": [
      "Age: 10\n"
     ]
    },
    {
     "name": "stdout",
     "output_type": "stream",
     "text": [
      "10\n"
     ]
    },
    {
     "name": "stdin",
     "output_type": "stream",
     "text": [
      "Enter a num: 10\n"
     ]
    },
    {
     "name": "stdout",
     "output_type": "stream",
     "text": [
      "Learning\n"
     ]
    }
   ],
   "source": [
    "print(int(input(\"Age:\")))\n",
    "age = int(input(\"Enter a num:\"))\n",
    "\n",
    "if age >= 17:\n",
    "    print(\"Employed\")\n",
    "elif age <= 17:\n",
    "    print(\"Learning\")\n",
    "else:\n",
    "    print(\"Student\")"
   ]
  },
  {
   "cell_type": "code",
   "execution_count": 44,
   "id": "7d51f740-7075-4b5f-b652-3015f6bc91a9",
   "metadata": {},
   "outputs": [
    {
     "name": "stdin",
     "output_type": "stream",
     "text": [
      "Age: 10\n"
     ]
    },
    {
     "name": "stdout",
     "output_type": "stream",
     "text": [
      "10\n"
     ]
    },
    {
     "name": "stdin",
     "output_type": "stream",
     "text": [
      "Enter a num: 10\n"
     ]
    },
    {
     "name": "stdout",
     "output_type": "stream",
     "text": [
      "Learning\n"
     ]
    }
   ],
   "source": [
    "print(int(input(\"Age:\")))\n",
    "age = int(input(\"Enter a num:\"))\n",
    "\n",
    "if age >= 17 and \n",
    "    print(\"Employed\")\n",
    "    print(\"Student\")"
   ]
  },
  {
   "cell_type": "code",
   "execution_count": 45,
   "id": "f27c9d75-b471-47a8-a620-9651d9be4bc8",
   "metadata": {},
   "outputs": [
    {
     "name": "stdin",
     "output_type": "stream",
     "text": [
      "Enter age: 10\n"
     ]
    }
   ],
   "source": [
    "age = input(\"Enter age:\")"
   ]
  },
  {
   "cell_type": "code",
   "execution_count": 46,
   "id": "996ef4af-a75c-43e8-b228-7c039b2134af",
   "metadata": {},
   "outputs": [
    {
     "data": {
      "text/plain": [
       "str"
      ]
     },
     "execution_count": 46,
     "metadata": {},
     "output_type": "execute_result"
    }
   ],
   "source": [
    "type(age)"
   ]
  },
  {
   "cell_type": "code",
   "execution_count": 47,
   "id": "95d3c7c6-fd6e-430a-ab85-fac5693f28b3",
   "metadata": {},
   "outputs": [
    {
     "name": "stdin",
     "output_type": "stream",
     "text": [
      "Enter age: 10\n"
     ]
    }
   ],
   "source": [
    "# By default everything or every variable is a string, so we are type casting it to int\n",
    "\n",
    "age = int(input(\"Enter age:\"))"
   ]
  },
  {
   "cell_type": "code",
   "execution_count": 49,
   "id": "7b655fdf-6a62-4511-b814-1cc31f413459",
   "metadata": {},
   "outputs": [
    {
     "data": {
      "text/plain": [
       "int"
      ]
     },
     "execution_count": 49,
     "metadata": {},
     "output_type": "execute_result"
    }
   ],
   "source": [
    "type(age)"
   ]
  },
  {
   "cell_type": "code",
   "execution_count": null,
   "id": "d413c6a5-68fa-457e-b38b-ab128c02bccc",
   "metadata": {},
   "outputs": [],
   "source": []
  },
  {
   "cell_type": "code",
   "execution_count": null,
   "id": "7f3b0c1c-b2b8-44e5-b5bb-c3d4fa7f3959",
   "metadata": {},
   "outputs": [],
   "source": [
    "productPrice = int(input(\"Enter amount:\"))\n",
    "\n",
    "if productPrice > 1000:\n",
    "    discout = productPrice *0.8\n",
    "    print(\"After discount:\", discount) \n",
    "elif productPrice <=1000:\n",
    "    discout = productPrice *0.8\n",
    "    print(\"After discount:\", discount)\n",
    "else:\n",
    "    print(\"hello\")\n",
    "    "
   ]
  },
  {
   "cell_type": "code",
   "execution_count": null,
   "id": "84a24483-353f-491b-91c5-5f284a82bb08",
   "metadata": {},
   "outputs": [],
   "source": []
  },
  {
   "cell_type": "code",
   "execution_count": null,
   "id": "e68c00b4-775a-4009-9d8c-cec5b4408f3a",
   "metadata": {},
   "outputs": [],
   "source": []
  },
  {
   "cell_type": "code",
   "execution_count": null,
   "id": "951e86f6-612c-4a51-a209-004dab486b94",
   "metadata": {},
   "outputs": [],
   "source": []
  }
 ],
 "metadata": {
  "kernelspec": {
   "display_name": "Python 3 (ipykernel)",
   "language": "python",
   "name": "python3"
  },
  "language_info": {
   "codemirror_mode": {
    "name": "ipython",
    "version": 3
   },
   "file_extension": ".py",
   "mimetype": "text/x-python",
   "name": "python",
   "nbconvert_exporter": "python",
   "pygments_lexer": "ipython3",
   "version": "3.10.8"
  }
 },
 "nbformat": 4,
 "nbformat_minor": 5
}
